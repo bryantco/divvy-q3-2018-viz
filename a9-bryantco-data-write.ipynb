{
 "cells": [
  {
   "cell_type": "code",
   "execution_count": 1,
   "metadata": {},
   "outputs": [],
   "source": [
    "import boto3 "
   ]
  },
  {
   "cell_type": "code",
   "execution_count": 2,
   "metadata": {},
   "outputs": [],
   "source": [
    "s3_resource = boto3.resource('s3')\n",
    "s3_client = boto3.client('s3')\n",
    "\n",
    "# Upload the csv \n",
    "s3_client.upload_file('Divvy_Bicycle_Stations.csv', \n",
    "                      'divvy-data-bryantco', \n",
    "                      'divvy_stations_2023.csv')\n",
    "\n",
    "s3_client.upload_file('chicago_comm_areas.geojson',\n",
    "                      'divvy-data-bryantco',\n",
    "                      'chicago_comm_areas.geojson')"
   ]
  }
 ],
 "metadata": {
  "kernelspec": {
   "display_name": "testenv",
   "language": "python",
   "name": "python3"
  },
  "language_info": {
   "codemirror_mode": {
    "name": "ipython",
    "version": 3
   },
   "file_extension": ".py",
   "mimetype": "text/x-python",
   "name": "python",
   "nbconvert_exporter": "python",
   "pygments_lexer": "ipython3",
   "version": "3.9.16"
  },
  "orig_nbformat": 4
 },
 "nbformat": 4,
 "nbformat_minor": 2
}
